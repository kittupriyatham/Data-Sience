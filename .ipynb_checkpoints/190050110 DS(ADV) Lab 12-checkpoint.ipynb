{
 "cells": [
  {
   "cell_type": "code",
   "execution_count": 2,
   "metadata": {},
   "outputs": [
    {
     "name": "stdout",
     "output_type": "stream",
     "text": [
      "ages =      ages\n",
      "0     32\n",
      "1     34\n",
      "2     29\n",
      "3     29\n",
      "4     22\n",
      "5     39\n",
      "6     38\n",
      "7     37\n",
      "8     38\n",
      "9     36\n",
      "10    30\n",
      "11    26\n",
      "12    22\n",
      "13    22\n",
      "ages mean =  ages    31.0\n",
      "dtype: float64\n",
      "tset =  [0.5973799]\n",
      "p-values [0.56051559]\n",
      "we are accepting null hypothesis\n"
     ]
    }
   ],
   "source": [
    "import numpy as np\n",
    "import pandas as pd\n",
    "from scipy.stats import ttest_1samp\n",
    "ages=pd.DataFrame({'ages':[32,34,29,29,22,39,38,37,38,36,30,26,22,22]})\n",
    "print(\"ages = \",ages)\n",
    "ages_mean=np.mean(ages)\n",
    "print(\"ages mean = \",ages_mean)\n",
    "tset,pval=ttest_1samp(ages,30)\n",
    "print(\"tset = \",tset)\n",
    "print('p-values',pval)\n",
    "if pval<0.05:\n",
    "    print(\"we are rejecting null hypothesis\")\n",
    "else:\n",
    "    print(\"we are accepting null hypothesis\")\n"
   ]
  },
  {
   "cell_type": "code",
   "execution_count": null,
   "metadata": {},
   "outputs": [],
   "source": []
  }
 ],
 "metadata": {
  "kernelspec": {
   "display_name": "Python 3",
   "language": "python",
   "name": "python3"
  },
  "language_info": {
   "codemirror_mode": {
    "name": "ipython",
    "version": 3
   },
   "file_extension": ".py",
   "mimetype": "text/x-python",
   "name": "python",
   "nbconvert_exporter": "python",
   "pygments_lexer": "ipython3",
   "version": "3.8.5"
  }
 },
 "nbformat": 4,
 "nbformat_minor": 4
}
